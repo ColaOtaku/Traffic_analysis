{
 "cells": [
  {
   "cell_type": "markdown",
   "metadata": {},
   "source": [
    "TAGET: 查看获取的出租车GPS的偏移情况 \\\n",
    "1.从高德获取所在区域的经纬度范围\\\n",
    "2.将查询区域划分为若干个小区域\\\n",
    "3.获取每个小区域内的道路名称\\\n",
    "4.根据道路名称查询道路的折线信息\\\n",
    "5.可视化的绘制"
   ]
  },
  {
   "cell_type": "markdown",
   "metadata": {},
   "source": [
    "#### Part 1 获取经纬度信息"
   ]
  },
  {
   "cell_type": "code",
   "execution_count": 2,
   "metadata": {},
   "outputs": [],
   "source": [
    "import urllib.request \n",
    "from urllib import parse \n",
    "import json \n",
    "import re\n",
    "import pandas as pd\n",
    "import chart_studio.plotly as py\n",
    "import plotly.graph_objs as go\n",
    "import plotly\n",
    "import numpy as np\n",
    "from pandas import DataFrame\n",
    "\n",
    "mykey=u'51cffc64fd38c249e18e2a8265ad06f9'"
   ]
  },
  {
   "cell_type": "code",
   "execution_count": 3,
   "metadata": {},
   "outputs": [],
   "source": [
    "# 获取温州地区轮廓经纬度，划定矩阵\n",
    "dist_Url = ('http://restapi.amap.com/v3/config/district?'\n",
    "                'key={key}&keywords=温州&subdistrict=2&extensions=all')\n",
    "dist_Url = parse.quote(dist_Url.format(key=mykey),safe=\"/:=&?#+!$,;'@()*[]\")\n",
    "response = urllib.request.urlopen(dist_Url)\n",
    "data = response.read()\n",
    "\n",
    "jsonData=json.loads(data)\n",
    "polyline=re.split(\"[;\\|]\",jsonData['districts'][0]['polyline'])\n",
    "# print(polyline)"
   ]
  },
  {
   "cell_type": "markdown",
   "metadata": {},
   "source": [
    "['121.074413,28.020475', '121.072726,28.020635', '121.071588,28.021384', '121.0711,28.0225', '121.071202,28.023596', '121.071832,28.026559', '121.071771,28.027411', '121.071609,28.028182', '121.07169,28.029582']"
   ]
  },
  {
   "cell_type": "code",
   "execution_count": 4,
   "metadata": {},
   "outputs": [],
   "source": [
    "max_lon=max_lat=0\n",
    "min_lon=min_lat=float('inf')\n",
    "for pair in polyline:\n",
    "    lon,lat=pair.split(',')\n",
    "    max_lon=max(max_lon,float(lon))\n",
    "    max_lat=max(max_lat,float(lat))\n",
    "    min_lon=min(min_lon,float(lon))\n",
    "    min_lat=min(min_lat,float(lat))"
   ]
  },
  {
   "cell_type": "markdown",
   "metadata": {},
   "source": [
    "#### Part 2 划分为小区域"
   ]
  },
  {
   "cell_type": "code",
   "execution_count": 120,
   "metadata": {},
   "outputs": [],
   "source": [
    "#由于高德查询限制，需要将查询区域划分为小块\n",
    "def generalID(column_num,row_num):\n",
    "    latitude = (max_lat - min_lat)/column_num\n",
    "    longitude = (max_lon - min_lon)/row_num\n",
    "    polylists = []\n",
    " \n",
    "    for i in range(column_num):\n",
    "        left_latitude = min_lat + latitude * i\n",
    "        righ_latitude = min_lat + latitude * (i+1)\n",
    "        for j in range(row_num):\n",
    "            temp = \"\"\n",
    "            left_longitude = min_lon + longitude * j\n",
    "            righ_longitude = min_lon + longitude * (j+1)\n",
    "            temp =str(left_longitude)+','+ str(left_latitude) + '|' + str(righ_longitude)+  ','+ str(righ_latitude) \n",
    "            polylists.append(temp)\n",
    "    return polylists\n",
    "\n",
    "polylists = generalID(15, 15)"
   ]
  },
  {
   "cell_type": "markdown",
   "metadata": {},
   "source": [
    "#### part 3 在每个区域内查询道路名称"
   ]
  },
  {
   "cell_type": "code",
   "execution_count": 6,
   "metadata": {
    "scrolled": true
   },
   "outputs": [],
   "source": [
    "#依次将查询结果写入文件\n",
    "def get_page_road(polygon,page):\n",
    "    search_url =('http://restapi.amap.com/v3/place/polygon?'\n",
    "                  'key={key}&polygon={polygon}&keywords=&types=190301&offset=20&page={page}&extensions=all')\n",
    "    search_url = parse.quote(search_url.format(polygon=polygon,key=mykey,page=page),safe=\"/:=&?#+!$,;'@()*[]\")\n",
    "    response = urllib.request.urlopen(search_url)\n",
    "    data = response.read().decode('utf-8')\n",
    "    jsonData=json.loads(data)['pois']\n",
    "    ret=DataFrame({'name':[],'id':[]})\n",
    "    for road in jsonData:\n",
    "        if (road['cityname']=='温州市'):\n",
    "            ret=ret.append({'name':road['name'],'id':road['id']},ignore_index=True) \n",
    "    return ret\n",
    "\n",
    "roads=DataFrame({'name':[],'id':[]})\n",
    "for poly in polylists:\n",
    "    page = 1\n",
    "    while True:\n",
    "        road=get_page_road(poly,page)\n",
    "        if (road.empty):\n",
    "            break\n",
    "        roads=roads.append(road)\n",
    "        page+=1\n",
    "roads.head()\n",
    "roads=roads.reset_index(drop=True)\n",
    "# roads=roads.drop_duplicates()\n",
    "# roads.to_csv(\"roads.csv\",index=False,sep=',',encoding=\"gbk\")"
   ]
  },
  {
   "cell_type": "markdown",
   "metadata": {},
   "source": [
    "#### part 4 根据道路名称获取道路点对"
   ]
  },
  {
   "cell_type": "code",
   "execution_count": 7,
   "metadata": {},
   "outputs": [],
   "source": [
    "#根据道路名称，查询\n",
    "road_list=[]\n",
    "for roadname in roads['name']:\n",
    "    url =('http://restapi.amap.com/v3/road/roadname?'\n",
    "      'key={key}&keywords={roadname}&city=0577')\n",
    "    url = parse.quote(url.format(key=mykey,roadname=roadname),safe=\"/:=&?#+!$,;'@()*[]\")\n",
    "    response = urllib.request.urlopen(url)\n",
    "    data = response.read().decode('utf-8')\n",
    "    jsonData=json.loads(data)\n",
    "    road_list+=jsonData['roads']"
   ]
  },
  {
   "cell_type": "code",
   "execution_count": 10,
   "metadata": {},
   "outputs": [],
   "source": [
    "import os\n"
   ]
  },
  {
   "cell_type": "code",
   "execution_count": 9,
   "metadata": {
    "scrolled": true
   },
   "outputs": [],
   "source": [
    "# 存储json\n",
    "# with open(\"roads.json\",\"w\",encoding='utf-8') as f:\n",
    "#     json.dump(road_list,f,ensure_ascii=False)\n",
    "# 读取json\n",
    "with open(\"roads.json\",\"r\",encoding='utf-8') as f:\n",
    "    road_list=json.load(f)"
   ]
  },
  {
   "cell_type": "markdown",
   "metadata": {},
   "source": [
    "#### part 5 读取处理TAXI信息"
   ]
  },
  {
   "cell_type": "code",
   "execution_count": 9,
   "metadata": {},
   "outputs": [
    {
     "data": {
      "text/plain": [
       "Index(['\"PLA_NO\"', 'LONGI', 'LATI', 'RUN_STATUS', 'GPS_TIME'], dtype='object')"
      ]
     },
     "execution_count": 9,
     "metadata": {},
     "output_type": "execute_result"
    }
   ],
   "source": [
    "df_taxi=pd.read_csv('data/taxi_sample.csv',engine='python',encoding='utf-8')\n",
    "df_taxi.drop(df_taxi[df_taxi['LONGI']<1].index,inplace=True)\n",
    "df_taxi.columns"
   ]
  },
  {
   "cell_type": "markdown",
   "metadata": {},
   "source": [
    "Index(['\"PLA_NO\"', 'LONGI', 'LATI', 'RUN_STATUS', 'GPS_TIME'], dtype='object')"
   ]
  },
  {
   "cell_type": "code",
   "execution_count": 1,
   "metadata": {},
   "outputs": [],
   "source": [
    "TaxiTrace=[]\n",
    "for name,group in df_taxi.groupby('\"PLA_NO\"'):\n",
    "    trace=group.loc[:,['LONGI', 'LATI','GPS_TIME']].sort_values(by='GPS_TIME')\n",
    "    trace=trace.loc[:,['LONGI', 'LATI']]\n",
    "    x_=np.array(trace.loc[:,['LONGI']]).reshape(-1)\n",
    "    y_=np.array(trace.loc[:,['LATI']]).reshape(-1)\n",
    "    TaxiTrace.append((x_,y_))\n",
    "# TaxiTrace"
   ]
  },
  {
   "cell_type": "markdown",
   "metadata": {},
   "source": [
    "[(array([115.670944, 115.66965 , 115.67032 , ..., 115.68498 , 115.68498 ,\n",
    "         115.68498 ]),\n",
    "  array([33.37483 , 33.375378, 33.37546 , ..., 33.374924, 33.374924,\n",
    "         33.374924])),...]"
   ]
  },
  {
   "cell_type": "code",
   "execution_count": 12,
   "metadata": {},
   "outputs": [],
   "source": [
    "#将前部分求取的路线记录成相同格式\n",
    "RoadTrace=[]\n",
    "for unit in road_list:\n",
    "    for roads in unit['polylines']:\n",
    "        Long,Lati=[],[]\n",
    "        road=roads.split(';')\n",
    "        for pair in road:\n",
    "            lon,lat=pair.split(',')\n",
    "            Long.append(float(lon))\n",
    "            Lati.append(float(lat))\n",
    "        RoadTrace.append((Long,Lati))"
   ]
  },
  {
   "cell_type": "code",
   "execution_count": 13,
   "metadata": {},
   "outputs": [],
   "source": [
    "# 根据数据，划定出租车所在区域，并筛选路径点区域以减少计算量\n",
    "max_lon=120.7\n",
    "min_lon=120.5\n",
    "max_lat=28.02\n",
    "min_lat=27.94\n",
    "\n",
    "RoadTrace_fil=[]\n",
    "for node in RoadTrace:\n",
    "    lon=np.array(node[0])\n",
    "    lat=np.array(node[1])\n",
    "#     print(lon.max(),lon.min(),lat.max(),lat.min())\n",
    "    if((lon.max()<min_lon) or (lon.min()>max_lon) or (lat.max()<min_lat) or (lat.max()>max_lat)):\n",
    "        pass\n",
    "    else:\n",
    "        RoadTrace_fil.append(node) "
   ]
  },
  {
   "cell_type": "markdown",
   "metadata": {},
   "source": [
    "#### part 6 可视化路网与TAXI_GPS"
   ]
  },
  {
   "cell_type": "code",
   "execution_count": 14,
   "metadata": {},
   "outputs": [],
   "source": [
    "pyplt = plotly.offline.plot \n",
    "data=[]\n",
    "for road in RoadTrace_fil[0:15000]:\n",
    "    data.append(go.Scatter(\n",
    "                            x = np.array(road[0]),\n",
    "                            y = np.array(road[1]),\n",
    "                            line = dict(\n",
    "                                        width = 2, \n",
    "                                        color = 'rgb(0, 0, 0)')\n",
    "                                     ))"
   ]
  },
  {
   "cell_type": "code",
   "execution_count": 15,
   "metadata": {
    "scrolled": true
   },
   "outputs": [
    {
     "data": {
      "text/plain": [
       "'temp-plot.html'"
      ]
     },
     "execution_count": 15,
     "metadata": {},
     "output_type": "execute_result"
    }
   ],
   "source": [
    "for taxi in TaxiTrace:\n",
    "    data.append(go.Scatter(\n",
    "                            x = np.array(x_).reshape(-1),\n",
    "                            y = np.array(y_).reshape(-1),\n",
    "                            line = dict(\n",
    "                                        width = 1, \n",
    "                                        color = 'rgb(255, 0, 0)')\n",
    "                                     ))\n",
    "pyplt(data)"
   ]
  },
  {
   "attachments": {},
   "cell_type": "markdown",
   "metadata": {},
   "source": [
    "![match.PNG](result/match.PNG)"
   ]
  },
  {
   "cell_type": "markdown",
   "metadata": {},
   "source": [
    "之后的工作证明GPS信息没有很多的偏移，偏移来自与坐标系的不同，高德采取的坐标系与出租车GPS位置的坐标系不同，可以通过坐标系转换修正"
   ]
  },
  {
   "cell_type": "code",
   "execution_count": null,
   "metadata": {},
   "outputs": [],
   "source": []
  }
 ],
 "metadata": {
  "kernelspec": {
   "display_name": "Python 3",
   "language": "python",
   "name": "python3"
  },
  "language_info": {
   "codemirror_mode": {
    "name": "ipython",
    "version": 3
   },
   "file_extension": ".py",
   "mimetype": "text/x-python",
   "name": "python",
   "nbconvert_exporter": "python",
   "pygments_lexer": "ipython3",
   "version": "3.7.0"
  }
 },
 "nbformat": 4,
 "nbformat_minor": 4
}
