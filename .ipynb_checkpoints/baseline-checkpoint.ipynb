{
 "cells": [
  {
   "cell_type": "markdown",
   "metadata": {},
   "source": [
    "#### Outline\n",
    "1. 读入KML文件，存为点云\n",
    "2. 根据距离建立初始类别\n",
    "3. 根据方向，距离等聚类获得每一条路的归属车点集(对于公交车上下行信息可以用于简单判断)\n",
    "4. 筛选剔除不合适的点，如0速度点\n",
    "5. 分时间计算平均速度，并写入KML文件"
   ]
  },
  {
   "cell_type": "code",
   "execution_count": 1,
   "metadata": {},
   "outputs": [],
   "source": [
    "import numpy as np\n",
    "import pandas as pd\n",
    "import json \n",
    "import re"
   ]
  },
  {
   "cell_type": "markdown",
   "metadata": {},
   "source": [
    "#### Section 1"
   ]
  },
  {
   "cell_type": "code",
   "execution_count": 2,
   "metadata": {},
   "outputs": [],
   "source": [
    "from sklearn.neighbors import KDTree\n",
    "import os"
   ]
  },
  {
   "cell_type": "code",
   "execution_count": 8,
   "metadata": {},
   "outputs": [],
   "source": [
    "FilePath='data/roadnet/'\n",
    "\n",
    "PointSet=[]\n",
    "Cnt=0\n",
    "\n",
    "for root, dirs, files in os.walk(FilePath):\n",
    "    for file in files:\n",
    "        df=pd.read_excel(os.path.join(root, file),encoding='utf-8')\n",
    "        df=pd.DataFrame(df['ns1:coordinates'])\n",
    "        df.columns=['xy']\n",
    "\n",
    "        for i in range(0,len(df)):\n",
    "            if not isinstance(df['xy'][i], float):\n",
    "                strs=df['xy'][i].split(' ')\n",
    "                Cnt=Cnt+1\n",
    "                for pairs in strs:\n",
    "                    coordinates=pairs.split(',')\n",
    "                    PointSet.append({'road_id':Cnt, 'co_x':float(coordinates[0]), 'co_y':float(coordinates[1])})\n",
    "PointSet=pd.DataFrame(PointSet)\n",
    "PointCloud=np.array(PointSet.loc[:,['co_x','co_y']])\n",
    "PointSet\n",
    "tree = KDTree(PointCloud)"
   ]
  },
  {
   "cell_type": "markdown",
   "metadata": {},
   "source": [
    "#### Section 2"
   ]
  },
  {
   "cell_type": "code",
   "execution_count": 4,
   "metadata": {},
   "outputs": [
    {
     "data": {
      "text/html": [
       "<div>\n",
       "<style scoped>\n",
       "    .dataframe tbody tr th:only-of-type {\n",
       "        vertical-align: middle;\n",
       "    }\n",
       "\n",
       "    .dataframe tbody tr th {\n",
       "        vertical-align: top;\n",
       "    }\n",
       "\n",
       "    .dataframe thead th {\n",
       "        text-align: right;\n",
       "    }\n",
       "</style>\n",
       "<table border=\"1\" class=\"dataframe\">\n",
       "  <thead>\n",
       "    <tr style=\"text-align: right;\">\n",
       "      <th></th>\n",
       "      <th>LINEDIR</th>\n",
       "      <th>LONGITUDE</th>\n",
       "      <th>LATITUDE</th>\n",
       "      <th>GPSTIME</th>\n",
       "      <th>SPEED</th>\n",
       "    </tr>\n",
       "  </thead>\n",
       "  <tbody>\n",
       "    <tr>\n",
       "      <th>0</th>\n",
       "      <td>下行</td>\n",
       "      <td>120.594386</td>\n",
       "      <td>28.021144</td>\n",
       "      <td>2020/3/9 0:00</td>\n",
       "      <td>0.0</td>\n",
       "    </tr>\n",
       "    <tr>\n",
       "      <th>1</th>\n",
       "      <td>上行</td>\n",
       "      <td>120.648602</td>\n",
       "      <td>28.011177</td>\n",
       "      <td>2020/3/9 0:00</td>\n",
       "      <td>35.0</td>\n",
       "    </tr>\n",
       "    <tr>\n",
       "      <th>2</th>\n",
       "      <td>下行</td>\n",
       "      <td>120.717183</td>\n",
       "      <td>28.008483</td>\n",
       "      <td>2020/3/9 0:00</td>\n",
       "      <td>29.6</td>\n",
       "    </tr>\n",
       "    <tr>\n",
       "      <th>3</th>\n",
       "      <td>上行</td>\n",
       "      <td>120.599269</td>\n",
       "      <td>28.016125</td>\n",
       "      <td>2020/3/9 0:00</td>\n",
       "      <td>0.0</td>\n",
       "    </tr>\n",
       "    <tr>\n",
       "      <th>4</th>\n",
       "      <td>下行</td>\n",
       "      <td>120.838413</td>\n",
       "      <td>27.906455</td>\n",
       "      <td>2020/3/9 0:00</td>\n",
       "      <td>0.0</td>\n",
       "    </tr>\n",
       "  </tbody>\n",
       "</table>\n",
       "</div>"
      ],
      "text/plain": [
       "  LINEDIR   LONGITUDE   LATITUDE        GPSTIME  SPEED\n",
       "0      下行  120.594386  28.021144  2020/3/9 0:00    0.0\n",
       "1      上行  120.648602  28.011177  2020/3/9 0:00   35.0\n",
       "2      下行  120.717183  28.008483  2020/3/9 0:00   29.6\n",
       "3      上行  120.599269  28.016125  2020/3/9 0:00    0.0\n",
       "4      下行  120.838413  27.906455  2020/3/9 0:00    0.0"
      ]
     },
     "execution_count": 4,
     "metadata": {},
     "output_type": "execute_result"
    }
   ],
   "source": [
    "FilePath='data/bus/'\n",
    "FileName='bus-20200309.csv'\n",
    "df=pd.read_csv(FilePath+FileName,encoding='utf-8')\n",
    "df.drop(['???\"DEVICEINDEXCODE\"','LINEINDEXCODE','DIRECTION','CURRENTSTATIONINDEXCODE'],axis=1,inplace=True)\n",
    "df.head()"
   ]
  },
  {
   "cell_type": "code",
   "execution_count": 9,
   "metadata": {},
   "outputs": [],
   "source": [
    "Road_dic={}\n",
    "for i in range(0,len(df)):\n",
    "    #0的直接剔除了_______-还没考虑路口，红绿灯等\n",
    "    if not df['SPEED'][i]:\n",
    "        continue\n",
    "    Velxy=np.array(df.iloc[[i],[1,2]])\n",
    "    dist,raw_ind = tree.query(Velxy,k=1)\n",
    "    index=PointSet.loc[int(raw_ind)]['road_id'] \n",
    "#     if(dist<threshold):\n",
    "    VelInfo={'Dir':df['LINEDIR'][i],'Lon':df['LONGITUDE'][i],'Lat':df['LATITUDE'][i],\\\n",
    "                               'GPS':pd.Timestamp(df['GPSTIME'][i]),'Speed':df['SPEED'][i]}\n",
    "    if not index in Road_dic:\n",
    "        Road_dic[index]=pd.DataFrame([VelInfo])\n",
    "    else:\n",
    "        Road_dic[index]=Road_dic[index].append(VelInfo,ignore_index=True)\n",
    "    break"
   ]
  },
  {
   "cell_type": "markdown",
   "metadata": {},
   "source": [
    "#### Section 3"
   ]
  },
  {
   "cell_type": "code",
   "execution_count": 133,
   "metadata": {},
   "outputs": [],
   "source": [
    "# 根据行进方向，剔除错误的点______尚未附加到正确的\n",
    "for key in Road_dic.keys():\n",
    "    df_=Road_dic[key]\n",
    "    direction = df_['Dir'].value_counts().index[0]\n",
    "    df_=df_[df_.isin([direction])]"
   ]
  },
  {
   "cell_type": "markdown",
   "metadata": {},
   "source": [
    "#### Section 4"
   ]
  },
  {
   "cell_type": "code",
   "execution_count": 134,
   "metadata": {},
   "outputs": [],
   "source": [
    "#写入KML文件\n",
    "import dict2xml\n",
    "from xml.dom.minidom import parseString"
   ]
  },
  {
   "cell_type": "code",
   "execution_count": 135,
   "metadata": {},
   "outputs": [],
   "source": [
    "xml_str=''\n",
    "RoadGroup=PointSet.groupby('road_id')\n",
    "\n",
    "def wrap_mark(index,df):\n",
    "    road_str=''\n",
    "    groups=df.groupby(pd.Grouper(key='GPS',freq='T'))\n",
    "    \n",
    "    for time,group in groups:\n",
    "        if (not group.empty):\n",
    "            dic={}\n",
    "            dic['name']=''\n",
    "            dic['Style']={'LineStyle':{'color':'ffFFFF00'},'PolyStyle':{'fill':0}}\n",
    "            Poly=RoadGroup.get_group(index)\n",
    "            poly_str=''\n",
    "            for idx in Poly.index:\n",
    "                poly_str=poly_str+str(Poly['co_x'][idx])+','+str(Poly['co_y'][idx])+' '\n",
    "            dic['LineString']={'coordinates':poly_str}\n",
    "            dic['TimeStamp']={'when':str(time)}\n",
    "            dic['description']=str(group['Speed'].mean())\n",
    "            road_str=road_str+dict2xml.dict2xml(dic,wrap='Placemark',indent=\" \")+'\\n'\n",
    "    return road_str\n",
    "\n",
    "for key in Road_dic.keys():\n",
    "    xml_str+=wrap_mark(key,Road_dic[key])\n",
    "\n",
    "xml_raw = '<?xml version=\"1.0\" encoding=\"utf-8\" ?>\\n<kml xmlns=\"http://www.opengis.net/kml/2.2\">\\n<Document id=\"root_doc\">\\n<Folder><name>roadnet</name>\\n' +xml_str+'\\n</Folder>\\n</Document></kml>'"
   ]
  },
  {
   "cell_type": "code",
   "execution_count": 137,
   "metadata": {},
   "outputs": [],
   "source": [
    "# 写入KML文件\n",
    "filename = \"test.kml\"\n",
    "f = open(filename, \"w\")\n",
    "f.write(xml_raw)   \n",
    "f.close()"
   ]
  }
 ],
 "metadata": {
  "kernelspec": {
   "display_name": "Python 3",
   "language": "python",
   "name": "python3"
  },
  "language_info": {
   "codemirror_mode": {
    "name": "ipython",
    "version": 3
   },
   "file_extension": ".py",
   "mimetype": "text/x-python",
   "name": "python",
   "nbconvert_exporter": "python",
   "pygments_lexer": "ipython3",
   "version": "3.7.0"
  }
 },
 "nbformat": 4,
 "nbformat_minor": 4
}
