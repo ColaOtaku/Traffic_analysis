{
 "cells": [
  {
   "cell_type": "code",
   "execution_count": 233,
   "metadata": {},
   "outputs": [],
   "source": [
    "import pandas as pd\n",
    "import plotly.graph_objs as go\n",
    "import plotly\n",
    "import numpy as np\n",
    "import os\n",
    "import matplotlib\n",
    "import matplotlib.pyplot as plt\n",
    "from math import floor"
   ]
  },
  {
   "cell_type": "code",
   "execution_count": 59,
   "metadata": {},
   "outputs": [],
   "source": [
    "# Input: data from the same taxi with columns [id LON LAT STATE GPS_TIME]\n",
    "def extract_od(df):\n",
    "    o_df=df[df['STATE'].diff()>0]\n",
    "    d_df=df[df['STATE'].diff()<0]\n",
    "    \n",
    "    #舍去头尾以对齐\n",
    "    if(len(o_df)<3 or len(d_df)<3):\n",
    "        return []\n",
    "    d_index=(d_df[d_df.index>o_df.index[1]].index[0],d_df[d_df.index>o_df.index[-2]].index[0])\n",
    "\n",
    "    o_df=o_df.iloc[1:-1,:].reset_index(drop=True)\n",
    "    d_df=d_df.loc[d_index[0]:d_index[1],:].reset_index(drop=True)\n",
    " \n",
    "    od_df=o_df.join(d_df,lsuffix='_O', rsuffix='_D',how='outer')\n",
    "    od_df=od_df.drop(columns=['STATE_O','id_D','STATE_D'])\n",
    "    od_df=od_df.rename({'id_O':'id'},axis='columns')\n",
    "    return od_df"
   ]
  },
  {
   "cell_type": "code",
   "execution_count": 60,
   "metadata": {},
   "outputs": [],
   "source": [
    "def modify_df(df):\n",
    "    df.columns=['id','LON','LAT','STATE','GPS_TIME']\n",
    "    df=df.drop(df[df['LON']<1].index)\n",
    "    df=df.sort_values('GPS_TIME')\n",
    "    df=df.reset_index(drop=True)\n",
    "    return df"
   ]
  },
  {
   "cell_type": "code",
   "execution_count": 172,
   "metadata": {},
   "outputs": [],
   "source": [
    "df=pd.DataFrame([])\n",
    "FilePath='E:/WorkSpace/py/travel_flow/data/OD'\n",
    "for root, dirs, files in os.walk(FilePath):\n",
    "    for file in files:\n",
    "        df_taxi=modify_df(pd.read_csv(os.path.join(root, file),encoding='utf-8'))\n",
    "        groups = df_taxi.groupby('id')\n",
    "        for label,group in groups:\n",
    "            df=df.append(extract_od(group))\n",
    "        break\n",
    "# OD_Matrix.hist('LAT_D',bins=50)"
   ]
  },
  {
   "cell_type": "code",
   "execution_count": 173,
   "metadata": {},
   "outputs": [
    {
     "data": {
      "text/html": [
       "<div>\n",
       "<style scoped>\n",
       "    .dataframe tbody tr th:only-of-type {\n",
       "        vertical-align: middle;\n",
       "    }\n",
       "\n",
       "    .dataframe tbody tr th {\n",
       "        vertical-align: top;\n",
       "    }\n",
       "\n",
       "    .dataframe thead th {\n",
       "        text-align: right;\n",
       "    }\n",
       "</style>\n",
       "<table border=\"1\" class=\"dataframe\">\n",
       "  <thead>\n",
       "    <tr style=\"text-align: right;\">\n",
       "      <th></th>\n",
       "      <th>id</th>\n",
       "      <th>LON_O</th>\n",
       "      <th>LAT_O</th>\n",
       "      <th>GPS_TIME_O</th>\n",
       "      <th>LON_D</th>\n",
       "      <th>LAT_D</th>\n",
       "      <th>GPS_TIME_D</th>\n",
       "    </tr>\n",
       "  </thead>\n",
       "  <tbody>\n",
       "    <tr>\n",
       "      <th>2</th>\n",
       "      <td>浙CT100053</td>\n",
       "      <td>120.719475</td>\n",
       "      <td>27.992098</td>\n",
       "      <td>2020/3/5 13:54:06</td>\n",
       "      <td>120.713615</td>\n",
       "      <td>27.986214</td>\n",
       "      <td>2020/3/5 13:56:46</td>\n",
       "    </tr>\n",
       "    <tr>\n",
       "      <th>3</th>\n",
       "      <td>浙CT100053</td>\n",
       "      <td>120.718765</td>\n",
       "      <td>27.991260</td>\n",
       "      <td>2020/3/5 14:10:14</td>\n",
       "      <td>120.680470</td>\n",
       "      <td>27.960117</td>\n",
       "      <td>2020/3/5 14:20:29</td>\n",
       "    </tr>\n",
       "    <tr>\n",
       "      <th>4</th>\n",
       "      <td>浙CT100053</td>\n",
       "      <td>120.693670</td>\n",
       "      <td>27.982546</td>\n",
       "      <td>2020/3/5 14:36:31</td>\n",
       "      <td>120.692800</td>\n",
       "      <td>27.991170</td>\n",
       "      <td>2020/3/5 14:41:07</td>\n",
       "    </tr>\n",
       "    <tr>\n",
       "      <th>5</th>\n",
       "      <td>浙CT100053</td>\n",
       "      <td>120.691880</td>\n",
       "      <td>27.991514</td>\n",
       "      <td>2020/3/5 14:41:26</td>\n",
       "      <td>120.632996</td>\n",
       "      <td>27.984455</td>\n",
       "      <td>2020/3/5 15:13:03</td>\n",
       "    </tr>\n",
       "    <tr>\n",
       "      <th>6</th>\n",
       "      <td>浙CT100053</td>\n",
       "      <td>120.635920</td>\n",
       "      <td>27.989120</td>\n",
       "      <td>2020/3/5 15:47:24</td>\n",
       "      <td>120.674620</td>\n",
       "      <td>27.956068</td>\n",
       "      <td>2020/3/5 16:05:35</td>\n",
       "    </tr>\n",
       "    <tr>\n",
       "      <th>...</th>\n",
       "      <td>...</td>\n",
       "      <td>...</td>\n",
       "      <td>...</td>\n",
       "      <td>...</td>\n",
       "      <td>...</td>\n",
       "      <td>...</td>\n",
       "      <td>...</td>\n",
       "    </tr>\n",
       "    <tr>\n",
       "      <th>2</th>\n",
       "      <td>浙CT99928</td>\n",
       "      <td>120.632065</td>\n",
       "      <td>28.018452</td>\n",
       "      <td>2020/3/5 13:24:50</td>\n",
       "      <td>120.651330</td>\n",
       "      <td>28.024640</td>\n",
       "      <td>2020/3/5 13:33:18</td>\n",
       "    </tr>\n",
       "    <tr>\n",
       "      <th>3</th>\n",
       "      <td>浙CT99928</td>\n",
       "      <td>120.645670</td>\n",
       "      <td>28.023237</td>\n",
       "      <td>2020/3/5 13:52:58</td>\n",
       "      <td>120.661000</td>\n",
       "      <td>28.024984</td>\n",
       "      <td>2020/3/5 14:00:41</td>\n",
       "    </tr>\n",
       "    <tr>\n",
       "      <th>4</th>\n",
       "      <td>浙CT99928</td>\n",
       "      <td>120.649925</td>\n",
       "      <td>28.026640</td>\n",
       "      <td>2020/3/5 14:07:43</td>\n",
       "      <td>120.662790</td>\n",
       "      <td>27.985730</td>\n",
       "      <td>2020/3/5 14:22:43</td>\n",
       "    </tr>\n",
       "    <tr>\n",
       "      <th>5</th>\n",
       "      <td>浙CT99928</td>\n",
       "      <td>120.665634</td>\n",
       "      <td>28.026520</td>\n",
       "      <td>2020/3/5 15:16:10</td>\n",
       "      <td>120.653430</td>\n",
       "      <td>28.015741</td>\n",
       "      <td>2020/3/5 15:24:59</td>\n",
       "    </tr>\n",
       "    <tr>\n",
       "      <th>6</th>\n",
       "      <td>浙CT99928</td>\n",
       "      <td>120.660150</td>\n",
       "      <td>28.022238</td>\n",
       "      <td>2020/3/5 9:14:44</td>\n",
       "      <td>120.661030</td>\n",
       "      <td>28.000517</td>\n",
       "      <td>2020/3/5 9:21:32</td>\n",
       "    </tr>\n",
       "  </tbody>\n",
       "</table>\n",
       "<p>21716 rows × 7 columns</p>\n",
       "</div>"
      ],
      "text/plain": [
       "           id       LON_O      LAT_O         GPS_TIME_O       LON_D  \\\n",
       "2   浙CT100053  120.719475  27.992098  2020/3/5 13:54:06  120.713615   \n",
       "3   浙CT100053  120.718765  27.991260  2020/3/5 14:10:14  120.680470   \n",
       "4   浙CT100053  120.693670  27.982546  2020/3/5 14:36:31  120.692800   \n",
       "5   浙CT100053  120.691880  27.991514  2020/3/5 14:41:26  120.632996   \n",
       "6   浙CT100053  120.635920  27.989120  2020/3/5 15:47:24  120.674620   \n",
       "..        ...         ...        ...                ...         ...   \n",
       "2    浙CT99928  120.632065  28.018452  2020/3/5 13:24:50  120.651330   \n",
       "3    浙CT99928  120.645670  28.023237  2020/3/5 13:52:58  120.661000   \n",
       "4    浙CT99928  120.649925  28.026640  2020/3/5 14:07:43  120.662790   \n",
       "5    浙CT99928  120.665634  28.026520  2020/3/5 15:16:10  120.653430   \n",
       "6    浙CT99928  120.660150  28.022238   2020/3/5 9:14:44  120.661030   \n",
       "\n",
       "        LAT_D         GPS_TIME_D  \n",
       "2   27.986214  2020/3/5 13:56:46  \n",
       "3   27.960117  2020/3/5 14:20:29  \n",
       "4   27.991170  2020/3/5 14:41:07  \n",
       "5   27.984455  2020/3/5 15:13:03  \n",
       "6   27.956068  2020/3/5 16:05:35  \n",
       "..        ...                ...  \n",
       "2   28.024640  2020/3/5 13:33:18  \n",
       "3   28.024984  2020/3/5 14:00:41  \n",
       "4   27.985730  2020/3/5 14:22:43  \n",
       "5   28.015741  2020/3/5 15:24:59  \n",
       "6   28.000517   2020/3/5 9:21:32  \n",
       "\n",
       "[21716 rows x 7 columns]"
      ]
     },
     "execution_count": 173,
     "metadata": {},
     "output_type": "execute_result"
    }
   ],
   "source": [
    "LON_MIN,LON_MAX,LAT_MIN,LAT_MAX=[120.5,120.8,27.9,28.05]\n",
    "OD_Matrix=df[(df['LAT_O']<LAT_MAX) & (df['LAT_O']>LAT_MIN) & (df['LAT_D']>LAT_MIN) & (df['LAT_D']<LAT_MAX) &\\\n",
    "              (df['LON_O']<LON_MAX) & (df['LON_O']>LON_MIN) & (df['LON_D']>LON_MIN) & (df['LON_D']<LON_MAX)].copy()\n",
    "OD_Matrix"
   ]
  },
  {
   "cell_type": "code",
   "execution_count": 177,
   "metadata": {},
   "outputs": [],
   "source": [
    "OD_Matrix['GPS_TIME_O']= pd.to_datetime(OD_Matrix['GPS_TIME_O'])"
   ]
  },
  {
   "cell_type": "code",
   "execution_count": 230,
   "metadata": {},
   "outputs": [],
   "source": [
    "def gen_OdList(df,grids):\n",
    "    step_lon=(LON_MAX-LON_MIN)/grids\n",
    "    step_lat=(LAT_MAX-LAT_MIN)/grids\n",
    "    ox=[floor(x) for x in ((df['LON_O']-LON_MIN)/step_lon)]\n",
    "    oy=[floor(x) for x in ((df['LAT_O']-LAT_MIN)/step_lat)]\n",
    "    dx=[floor(x) for x in ((df['LON_D']-LON_MIN)/step_lon)]\n",
    "    dy=[floor(x) for x in ((df['LAT_D']-LAT_MIN)/step_lat)]\n",
    "    OD=np.zeros([grids**2,grids**2],int)\n",
    "    for x1,y1,x2,y2 in zip(ox,oy,dx,dy):\n",
    "        OD[x1+y1*grids,x2+y2*grids]+=1\n",
    "    return OD\n",
    "\n",
    "DataLists=[]\n",
    "groups_d=OD_Matrix.groupby(pd.Grouper(key='GPS_TIME_O',freq='D'))\n",
    "for _,group_d in groups_d:\n",
    "    DataList=[]\n",
    "    groups_h=group_d.groupby(pd.Grouper(key='GPS_TIME_O',freq='H'))\n",
    "    for _,group_h in groups_h:\n",
    "        DataList.append(gen_OdList(group_h,4))\n",
    "    DataLists.append(DataList)\n"
   ]
  },
  {
   "cell_type": "code",
   "execution_count": 254,
   "metadata": {},
   "outputs": [
    {
     "data": {
      "text/plain": [
       "1532"
      ]
     },
     "execution_count": 254,
     "metadata": {},
     "output_type": "execute_result"
    }
   ],
   "source": [
    "OD_DAY_ONE_NINE=DataLists[0][8]\n",
    "sum(sum(OD_DAY_ONE_NINE))"
   ]
  },
  {
   "cell_type": "code",
   "execution_count": 255,
   "metadata": {
    "scrolled": true
   },
   "outputs": [
    {
     "data": {
      "image/png": "[encoded data removed]",
      "text/plain": [
       "<Figure size 432x288 with 2 Axes>"
      ]
     },
     "metadata": {
      "needs_background": "light"
     },
     "output_type": "display_data"
    }
   ],
   "source": [
    "plt.imshow(OD_DAY_ONE_NINE, cmap=plt.cm.hot_r, vmin=0, vmax=50)\n",
    "plt.colorbar()\n",
    "plt.show()"
   ]
  },
  {
   "cell_type": "code",
   "execution_count": null,
   "metadata": {},
   "outputs": [],
   "source": []
  },
  {
   "cell_type": "code",
   "execution_count": null,
   "metadata": {},
   "outputs": [],
   "source": []
  }
 ],
 "metadata": {
  "kernelspec": {
   "display_name": "Python 3",
   "language": "python",
   "name": "python3"
  },
  "language_info": {
   "codemirror_mode": {
    "name": "ipython",
    "version": 3
   },
   "file_extension": ".py",
   "mimetype": "text/x-python",
   "name": "python",
   "nbconvert_exporter": "python",
   "pygments_lexer": "ipython3",
   "version": "3.7.6"
  }
 },
 "nbformat": 4,
 "nbformat_minor": 4
}
