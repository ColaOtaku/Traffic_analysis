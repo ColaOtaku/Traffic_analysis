{
 "cells": [
  {
   "cell_type": "code",
   "execution_count": 3,
   "metadata": {},
   "outputs": [],
   "source": [
    "import pandas as pd\n",
    "import plotly.graph_objs as go\n",
    "import plotly\n",
    "import numpy as np\n",
    "import os\n",
    "import matplotlib\n",
    "import matplotlib.pyplot as plt\n",
    "from math import floor\n",
    "import torch\n",
    "from torch import nn\n",
    "import matplotlib.pyplot as plt\n"
   ]
  },
  {
   "cell_type": "code",
   "execution_count": 4,
   "metadata": {},
   "outputs": [],
   "source": [
    "# Input: data from the same taxi with columns [id LON LAT STATE GPS_TIME]\n",
    "def extract_od(df):\n",
    "    o_df=df[df['STATE'].diff()>0]\n",
    "    d_df=df[df['STATE'].diff()<0]\n",
    "    \n",
    "    #舍去头尾以对齐\n",
    "    if(len(o_df)<3 or len(d_df)<3):\n",
    "        return []\n",
    "    d_index=(d_df[d_df.index>o_df.index[1]].index[0],d_df[d_df.index>o_df.index[-2]].index[0])\n",
    "\n",
    "    o_df=o_df.iloc[1:-1,:].reset_index(drop=True)\n",
    "    d_df=d_df.loc[d_index[0]:d_index[1],:].reset_index(drop=True)\n",
    " \n",
    "    od_df=o_df.join(d_df,lsuffix='_O', rsuffix='_D',how='outer')\n",
    "    od_df=od_df.drop(columns=['STATE_O','id_D','STATE_D'])\n",
    "    od_df=od_df.rename({'id_O':'id'},axis='columns')\n",
    "    return od_df"
   ]
  },
  {
   "cell_type": "code",
   "execution_count": 5,
   "metadata": {},
   "outputs": [],
   "source": [
    "def modify_df(df):\n",
    "    df.columns=['id','LON','LAT','STATE','GPS_TIME']\n",
    "    df=df.drop(df[df['LON']<1].index)\n",
    "    df=df.sort_values('GPS_TIME')\n",
    "    df=df.reset_index(drop=True)\n",
    "    return df"
   ]
  },
  {
   "cell_type": "code",
   "execution_count": 6,
   "metadata": {},
   "outputs": [
    {
     "ename": "KeyboardInterrupt",
     "evalue": "",
     "output_type": "error",
     "traceback": [
      "\u001b[1;31m---------------------------------------------------------------------------\u001b[0m",
      "\u001b[1;31mKeyboardInterrupt\u001b[0m                         Traceback (most recent call last)",
      "\u001b[1;32m<ipython-input-6-ed83e7580713>\u001b[0m in \u001b[0;36m<module>\u001b[1;34m\u001b[0m\n\u001b[0;32m      6\u001b[0m         \u001b[0mgroups\u001b[0m \u001b[1;33m=\u001b[0m \u001b[0mdf_taxi\u001b[0m\u001b[1;33m.\u001b[0m\u001b[0mgroupby\u001b[0m\u001b[1;33m(\u001b[0m\u001b[1;34m'id'\u001b[0m\u001b[1;33m)\u001b[0m\u001b[1;33m\u001b[0m\u001b[1;33m\u001b[0m\u001b[0m\n\u001b[0;32m      7\u001b[0m         \u001b[1;32mfor\u001b[0m \u001b[0mlabel\u001b[0m\u001b[1;33m,\u001b[0m\u001b[0mgroup\u001b[0m \u001b[1;32min\u001b[0m \u001b[0mgroups\u001b[0m\u001b[1;33m:\u001b[0m\u001b[1;33m\u001b[0m\u001b[1;33m\u001b[0m\u001b[0m\n\u001b[1;32m----> 8\u001b[1;33m             \u001b[0mdf\u001b[0m\u001b[1;33m=\u001b[0m\u001b[0mdf\u001b[0m\u001b[1;33m.\u001b[0m\u001b[0mappend\u001b[0m\u001b[1;33m(\u001b[0m\u001b[0mextract_od\u001b[0m\u001b[1;33m(\u001b[0m\u001b[0mgroup\u001b[0m\u001b[1;33m)\u001b[0m\u001b[1;33m)\u001b[0m\u001b[1;33m\u001b[0m\u001b[1;33m\u001b[0m\u001b[0m\n\u001b[0m\u001b[0;32m      9\u001b[0m \u001b[1;31m# OD_Matrix.hist('LAT_D',bins=50)\u001b[0m\u001b[1;33m\u001b[0m\u001b[1;33m\u001b[0m\u001b[1;33m\u001b[0m\u001b[0m\n",
      "\u001b[1;31mKeyboardInterrupt\u001b[0m: "
     ]
    }
   ],
   "source": [
    "df=pd.DataFrame([])\n",
    "FilePath='E:/WorkSpace/py/travel_flow/data/OD'\n",
    "for root, dirs, files in os.walk(FilePath):\n",
    "    for file in files:\n",
    "        df_taxi=modify_df(pd.read_csv(os.path.join(root, file),encoding='utf-8'))\n",
    "        groups = df_taxi.groupby('id')\n",
    "        for label,group in groups:\n",
    "            df=df.append(extract_od(group))\n",
    "# OD_Matrix.hist('LAT_D',bins=50)"
   ]
  },
  {
   "cell_type": "code",
   "execution_count": null,
   "metadata": {},
   "outputs": [],
   "source": [
    "LON_MIN,LON_MAX,LAT_MIN,LAT_MAX=[120.5,120.8,27.9,28.05]\n",
    "OD_Matrix=df[(df['LAT_O']<LAT_MAX) & (df['LAT_O']>LAT_MIN) & (df['LAT_D']>LAT_MIN) & (df['LAT_D']<LAT_MAX) &\\\n",
    "              (df['LON_O']<LON_MAX) & (df['LON_O']>LON_MIN) & (df['LON_D']>LON_MIN) & (df['LON_D']<LON_MAX)].copy()\n",
    "OD_Matrix"
   ]
  },
  {
   "cell_type": "code",
   "execution_count": null,
   "metadata": {},
   "outputs": [],
   "source": [
    "OD_Matrix['GPS_TIME_O']= pd.to_datetime(OD_Matrix['GPS_TIME_O'])"
   ]
  },
  {
   "cell_type": "code",
   "execution_count": null,
   "metadata": {},
   "outputs": [],
   "source": [
    "def gen_OdList(df,grids):\n",
    "    step_lon=(LON_MAX-LON_MIN)/grids\n",
    "    step_lat=(LAT_MAX-LAT_MIN)/grids\n",
    "    ox=[floor(x) for x in ((df['LON_O']-LON_MIN)/step_lon)]\n",
    "    oy=[floor(x) for x in ((df['LAT_O']-LAT_MIN)/step_lat)]\n",
    "    dx=[floor(x) for x in ((df['LON_D']-LON_MIN)/step_lon)]\n",
    "    dy=[floor(x) for x in ((df['LAT_D']-LAT_MIN)/step_lat)]\n",
    "    OD=np.zeros([grids**2,grids**2],int)\n",
    "    for x1,y1,x2,y2 in zip(ox,oy,dx,dy):\n",
    "        OD[x1+y1*grids,x2+y2*grids]+=1\n",
    "    return OD\n",
    "\n",
    "DataList=[]\n",
    "groups_d=OD_Matrix.groupby(pd.Grouper(key='GPS_TIME_O',freq='D'))\n",
    "for _,group_d in groups_d:  \n",
    "    groups_h=group_d.groupby(pd.Grouper(key='GPS_TIME_O',freq='H'))\n",
    "    for _,group_h in groups_h:\n",
    "        DataList.append(gen_OdList(group_h,4).reshape(-1))\n",
    "DataList=np.array(DataList)"
   ]
  },
  {
   "cell_type": "code",
   "execution_count": null,
   "metadata": {},
   "outputs": [],
   "source": [
    "NonZeroMax=DataList[np.count_nonzero(DataList,axis=1).argmax()].reshape(16,16)\n",
    "plt.imshow(NonZeroMax, cmap=plt.cm.hot_r, vmin=0, vmax=50)\n",
    "plt.colorbar()\n",
    "plt.show()\n",
    "print(NonZeroMax)"
   ]
  },
  {
   "cell_type": "code",
   "execution_count": 149,
   "metadata": {},
   "outputs": [],
   "source": [
    "class RegLSTM(nn.Module):\n",
    "    def __init__(self, inp_dim, out_dim, mid_dim, mid_layers):\n",
    "        super(RegLSTM, self).__init__()\n",
    "\n",
    "        self.rnn = nn.LSTM(inp_dim, mid_dim, mid_layers)  # rnn\n",
    "        self.reg = nn.Sequential(\n",
    "            nn.Linear(mid_dim, mid_dim),\n",
    "            nn.Tanh(),\n",
    "            nn.Linear(mid_dim, out_dim),\n",
    "        )  # regression\n",
    "\n",
    "    def forward(self, x):\n",
    "        y,_ = self.rnn(x) \n",
    "\n",
    "        seq_len, batch_size, hid_dim = y.shape\n",
    "        y = y.view(-1, hid_dim)\n",
    "        y = self.reg(y)\n",
    "        y = y.view(seq_len, batch_size, -1)\n",
    "        return y\n"
   ]
  },
  {
   "cell_type": "code",
   "execution_count": 213,
   "metadata": {},
   "outputs": [],
   "source": [
    "sample=DataList[:,171:172]\n",
    "def DataHandle(seq_number):\n",
    "    seq_day = np.arange(9)\n",
    "    seq_hour = np.arange(24)\n",
    "    seq_time = np.transpose(\n",
    "        [np.tile(seq_hour, len(seq_day))],\n",
    "    )  # Cartesian Product\n",
    "\n",
    "    seq = np.concatenate((seq_number, seq_time), axis=1)\n",
    "    #seq=seq_number\n",
    "    # normalization\n",
    "    seq = (seq - seq.mean(axis=0)) / seq.std(axis=0)\n",
    "    return seq"
   ]
  },
  {
   "cell_type": "code",
   "execution_count": 215,
   "metadata": {},
   "outputs": [
    {
     "name": "stdout",
     "output_type": "stream",
     "text": [
      "Training Start\n",
      "Epoch:    0, Loss: 0.67155\n",
      "Epoch:   64, Loss: 0.31759\n",
      "Epoch:  128, Loss: 0.24229\n",
      "Epoch:  192, Loss: 0.14580\n",
      "Epoch:  256, Loss: 0.10106\n",
      "Epoch:  320, Loss: 0.07662\n",
      "Epoch:  384, Loss: 0.05627\n",
      "Epoch:  448, Loss: 0.04970\n",
      "Epoch:  512, Loss: 0.08104\n",
      "Epoch:  576, Loss: 0.06439\n",
      "Epoch:  640, Loss: 0.05845\n",
      "Epoch:  704, Loss: 0.05496\n",
      "Epoch:  768, Loss: 0.05158\n",
      "Epoch:  832, Loss: 0.05099\n",
      "Epoch:  896, Loss: 0.04825\n",
      "Epoch:  960, Loss: 0.04350\n",
      "Epoch: 1024, Loss: 0.04134\n",
      "Epoch: 1088, Loss: 0.04100\n",
      "Epoch: 1152, Loss: 0.03784\n",
      "Save in: ./net.pth\n",
      "L1: 0.556    L2: 0.657\n"
     ]
    },
    {
     "data": {
      "image/png": "[encoded data removed]",
      "text/plain": [
       "<Figure size 432x288 with 1 Axes>"
      ]
     },
     "metadata": {
      "needs_background": "light"
     },
     "output_type": "display_data"
    }
   ],
   "source": [
    "def run_train_lstm():\n",
    "    feature = 1\n",
    "    extra_feature = 1\n",
    "    inp_dim = feature+extra_feature  # 输入维度3\n",
    "    out_dim = feature  # 输出维度1\n",
    "    mid_dim = 8  # 隐含神经元8\n",
    "    mid_layers = 1 # 隐层1 \n",
    "    batch_size = 12 * 4 # batch 12*4\n",
    "    gap = 3\n",
    "    mod_dir = '.'\n",
    "\n",
    "    '''load data'''\n",
    "    data = DataHandle(sample)\n",
    "    data_x = data[:-1, :]\n",
    "    if(extra_feature>0):\n",
    "        data_y = data[+1:, :-extra_feature]\n",
    "    else:\n",
    "        data_y = data[+1:, :]\n",
    "    train_size = int(len(data_x) * 0.75)  #9*128\n",
    "    train_x = data_x[:train_size]\n",
    "    train_y = data_y[:train_size]\n",
    "    train_x = train_x.reshape((train_size, inp_dim))\n",
    "    train_y = train_y.reshape((train_size, out_dim))\n",
    "\n",
    "    '''build model'''\n",
    "    device = torch.device(\"cuda\" if torch.cuda.is_available() else \"cpu\")\n",
    "    net = RegLSTM(inp_dim, out_dim, mid_dim, mid_layers).to(device)\n",
    "    criterion = nn.MSELoss()\n",
    "    optimizer = torch.optim.Adam(net.parameters(), lr=1e-2)\n",
    "\n",
    "    '''train'''\n",
    "    var_x = torch.tensor(train_x, dtype=torch.float32, device=device)\n",
    "    var_y = torch.tensor(train_y, dtype=torch.float32, device=device)\n",
    "\n",
    "    batch_var_x = list()\n",
    "    batch_var_y = list()\n",
    "\n",
    "    for i in range(batch_size):\n",
    "        j = train_size - gap*i\n",
    "        batch_var_x.append(var_x[j:])\n",
    "        batch_var_y.append(var_y[j:])\n",
    "\n",
    "    from torch.nn.utils.rnn import pad_sequence\n",
    "    batch_var_x = pad_sequence(batch_var_x)\n",
    "    batch_var_y = pad_sequence(batch_var_y)\n",
    "\n",
    "    print(\"Training Start\")\n",
    "    \n",
    "    for e in range(1200):\n",
    "        out = net(batch_var_x)\n",
    "        loss = criterion(out, batch_var_y)\n",
    "    \n",
    "        optimizer.zero_grad()\n",
    "        loss.backward()\n",
    "        optimizer.step()\n",
    "        if e % 64 == 0:\n",
    "            print('Epoch: {:4}, Loss: {:.5f}'.format(e, loss.item()))\n",
    "    #torch.save(net.state_dict(), '{}/net.pth'.format(mod_dir))\n",
    "    #print(\"Save in:\", '{}/net.pth'.format(mod_dir))\n",
    "\n",
    "    '''eval'''\n",
    "    #net.load_state_dict(torch.load('{}/net.pth'.format(mod_dir), map_location=lambda storage, loc: storage))\n",
    "    net = net.eval()\n",
    "\n",
    "    test_x = data_x.copy()\n",
    "    test_x[train_size:, 0] = 0\n",
    "    test_x = test_x[:, np.newaxis, :]\n",
    "    test_x = torch.tensor(test_x, dtype=torch.float32, device=device)\n",
    "#     print(test_x)\n",
    "    '''simple way but no elegant'''\n",
    "    for i in range(train_size, len(data) - 2):\n",
    "        test_y = net(test_x[:i])\n",
    "        test_x[i, 0, 0:feature] = test_y[-1]\n",
    "    \n",
    "    pred_y = test_x[1:, 0, 0:feature]\n",
    "    pred_y = pred_y.cpu().data.numpy()\n",
    "\n",
    "    diff_y = pred_y[train_size:] - data_y[train_size:-1]\n",
    "    l1_loss = np.mean(np.abs(diff_y))\n",
    "    l2_loss = np.mean(diff_y ** 2)\n",
    "    print(\"L1: {:.3f}    L2: {:.3f}\".format(l1_loss, l2_loss))\n",
    "\n",
    "    plt.plot(pred_y, 'r', label='pred')\n",
    "    plt.plot(data_y, 'b', label='real', alpha=0.3)\n",
    "    plt.plot([train_size, train_size], [-1, 2], color='k', label='train | pred')\n",
    "    plt.legend(loc='best')\n",
    "    plt.savefig('lstm_reg.png')\n",
    "    plt.pause(4)\n",
    "if __name__ == '__main__':\n",
    "    run_train_lstm()"
   ]
  },
  {
   "cell_type": "code",
   "execution_count": null,
   "metadata": {},
   "outputs": [],
   "source": []
  },
  {
   "cell_type": "code",
   "execution_count": null,
   "metadata": {},
   "outputs": [],
   "source": []
  },
  {
   "cell_type": "code",
   "execution_count": null,
   "metadata": {},
   "outputs": [],
   "source": []
  },
  {
   "cell_type": "code",
   "execution_count": null,
   "metadata": {},
   "outputs": [],
   "source": []
  }
 ],
 "metadata": {
  "kernelspec": {
   "display_name": "Python 3",
   "language": "python",
   "name": "python3"
  },
  "language_info": {
   "codemirror_mode": {
    "name": "ipython",
    "version": 3
   },
   "file_extension": ".py",
   "mimetype": "text/x-python",
   "name": "python",
   "nbconvert_exporter": "python",
   "pygments_lexer": "ipython3",
   "version": "3.7.6"
  }
 },
 "nbformat": 4,
 "nbformat_minor": 4
}
